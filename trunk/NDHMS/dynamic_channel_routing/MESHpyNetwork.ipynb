{
 "cells": [
  {
   "cell_type": "markdown",
   "metadata": {},
   "source": [
    "#### MESHpy Test"
   ]
  },
  {
   "cell_type": "markdown",
   "metadata": {},
   "source": [
    "##### Turn Autosave off\n",
    "Autosave generates additional work for the version control. Remember to manually save any chances after clearing kernel and output for more effective version control."
   ]
  },
  {
   "cell_type": "code",
   "execution_count": null,
   "metadata": {
    "colab": {},
    "colab_type": "code",
    "id": "deUYvdo-xlch"
   },
   "outputs": [],
   "source": [
    "%autosave 0 "
   ]
  },
  {
   "cell_type": "markdown",
   "metadata": {},
   "source": [
    "##### Google Colab execution\n",
    "Using this Chrome extension, the github-hosted jupyter notebooks may be opened directly in Google Colaboratory\n",
    "https://chrome.google.com/webstore/detail/open-in-colab/iogfkhleblhcpcekbiedikdehleodpjo\n",
    "more info here:\n",
    "https://colab.research.google.com/github/googlecolab/colabtools/blob/master/notebooks/colab-github-demo.ipynb\n",
    "\n",
    "The following two StackOverflow posts helped with managing the dependencies\n",
    "https://stackoverflow.com/questions/53581278/test-if-notebook-is-running-on-google-colab\n",
    "https://stackoverflow.com/questions/53793731/using-custom-packages-on-google-colaboratory\n",
    "\n",
    "[![Open This Notebook In Colab](https://colab.research.google.com/assets/colab-badge.svg)](https://colab.research.google.com/github/jameshalgren/wrf_hydro_nwm_public/blob/dynamic_channel_routing/trunk/NDHMS/dynamic_channel_routing/MESHpyNetwork.ipynb)"
   ]
  },
  {
   "cell_type": "code",
   "execution_count": null,
   "metadata": {},
   "outputs": [],
   "source": [
    "try:\n",
    "    import google.colab\n",
    "    IN_COLAB = True\n",
    "    !git clone https://github.com/jameshalgren/wrf_hydro_nwm_public.git\n",
    "    import sys\n",
    "    sys.path.append('/content/wrf_hydro_nwm_public/trunk/NDHMS/dynamic_channel_routing')\n",
    "except:\n",
    "    IN_COLAB = False"
   ]
  },
  {
   "cell_type": "markdown",
   "metadata": {},
   "source": [
    "###### Note\n",
    "9 Sept 2016\n",
    "The plotting functions seem to require that the cell be executed twice before the output will appear in a standard Jupyter Notebook. "
   ]
  },
  {
   "cell_type": "code",
   "execution_count": null,
   "metadata": {},
   "outputs": [],
   "source": [
    "from __future__ import division\n",
    "import pickle\n",
    "from MESHpyNetwork import MESHpyNetwork\n",
    "import matplotlib.pyplot as plt\n",
    "from math import ceil\n",
    "import pandas as pd\n",
    "import os\n",
    "\n",
    "def main():\n",
    "    input_type = 'file'\n",
    "    input_vars = {}\n",
    "    input_vars['filetype'] = 'mesh.py'\n",
    "    root = os.path.abspath(r'c:/Users/james.halgren/Downloads/MESH_test/')\n",
    "    Main_Example_Path = os.path.join(root , 'US')\n",
    "    Sub_Example_Path = os.path.join(Main_Example_Path , 'BW')\n",
    "    This_Example_Path = os.path.join(Sub_Example_Path, 'Q')\n",
    "\n",
    "    #C:\\Users\\james.halgren\\Downloads\\MESH_test\\US\\BW\\Q\\Qvar_us_2YNorm\\Qvar_us_0033_5.0-10000.0_0100_0000-0004-0200_2NormalDepth\n",
    "    input_path = os.path.join(This_Example_Path,'Qvar_us_2YNorm','Qvar_us_0033_5.0-10000.0_0100_0000-0004-0200_2NormalDepth',\"input.txt\")\n",
    "    input_vars['input_path'] = input_path\n",
    "    # print(input_path)\n",
    "    \n",
    "    # if len(sys.argv) > 1:\n",
    "    #     input_path = sys.argv[1]\n",
    "    # else:\n",
    "    #     input_path = os.path.join(This_Example_Path,\"input.txt\")\n",
    "    #     print(input_path)\n",
    "    #     #input_path = \"./input.txt\"\n",
    "\n",
    "    # network = DummyNetwork()\n",
    "    # network = SimpleFlowTrace() #DongHa's method.\n",
    "    # network = SteadyNetwork(input_type = input_type, input_vars = input_vars)\n",
    "    #input_and_initialize(sections, input_path, input_opt)\n",
    "    network = MESHpyNetwork(input_type = input_type, input_vars = input_vars)\n",
    "    # network = MuskCNetwork()\n",
    "    # network = MESHDNetwork()\n",
    "\n",
    "    network.compute_initial_state()\n",
    "    network.compute_time_steps()\n",
    "\n",
    "    cols_for_subplots = 4\n",
    "    fig, axes = plt.subplots(nrows=ceil(len(network.sections)/cols_for_subplots), ncols=cols_for_subplots, squeeze=False)\n",
    "\n",
    "    #TODO: make plotting another method within the network\n",
    "    for i, section in enumerate(network.sections):\n",
    "        '''Section Hydrograph Plots'''\n",
    "        a = pd.Series(time_step.depth for i, time_step in enumerate(section.time_steps))\n",
    "        # print(m, n)\n",
    "        m = i//cols_for_subplots\n",
    "        n = i%cols_for_subplots \n",
    "        a.plot(ax = axes[m,n])\n",
    "        \n",
    "    cols_for_subplots = 4\n",
    "    fig2, axes2 = plt.subplots(nrows=ceil(len(network.sections[0].time_steps)/cols_for_subplots), ncols=cols_for_subplots, squeeze=False)\n",
    "\n",
    "    #TODO: make plotting another method within the network\n",
    "    for j, time_step in enumerate(network.sections[0].time_steps):\n",
    "        '''Profile Plots'''\n",
    "        b = pd.Series(section.bottom_z + section.time_steps[j].depth for i, section in enumerate(network.sections))\n",
    "        # print(m, n)\n",
    "        m = j//cols_for_subplots\n",
    "        n = j%cols_for_subplots \n",
    "        # Thanks to this SO post for the easy indexing solution:\n",
    "        # https://stackoverflow.com/questions/5494974/convert-1d-array-index-to-2d-array-index\n",
    "        b.plot(ax = axes2[m,n])\n",
    "\n",
    "    cols_for_subplots = 4\n",
    "    fig3, axes3 = plt.subplots(nrows=ceil(len(network.sections[0].time_steps)/cols_for_subplots), ncols=cols_for_subplots, squeeze=False)\n",
    "        \n",
    "    #TODO: make plotting another method within the network\n",
    "    for j, time_step in enumerate(network.sections[0].time_steps):\n",
    "        '''Profile Plots'''\n",
    "        c = pd.Series(section.time_steps[j].depth for i, section in enumerate(network.sections))\n",
    "        # print(m, n)\n",
    "        m = j//cols_for_subplots\n",
    "        n = j%cols_for_subplots \n",
    "        c.plot(ax = axes3[m,n])\n",
    "        \n",
    "    #TODO: Use this generator to create a get_depths method of some kind within the Network class.\n",
    "    #      Such a method could replace the a = pd.Series... and b = pd.Series... lines in the code above.\n",
    "    elevations = [[section.bottom_z + section.time_steps[j].depth for section in network.sections] for j, _ in enumerate(network.sections[0].time_steps)]\n",
    "    depths = [[section.time_steps[j].depth for section in network.sections] for j, _ in enumerate(network.sections[0].time_steps)]\n",
    "    #print(depths)\n",
    "\n",
    "    return network\n",
    "\n",
    "if __name__ == \"__main__\":\n",
    "    network = main()\n",
    "    pickle.dumps(network.sections)"
   ]
  },
  {
   "cell_type": "code",
   "execution_count": null,
   "metadata": {},
   "outputs": [],
   "source": []
  }
 ],
 "metadata": {
  "colab": {
   "name": "MESHpy Network Test",
   "provenance": [],
   "version": "0.3.2"
  },
  "kernelspec": {
   "display_name": "Python 3",
   "language": "python",
   "name": "python3"
  },
  "language_info": {
   "codemirror_mode": {
    "name": "ipython",
    "version": 3
   },
   "file_extension": ".py",
   "mimetype": "text/x-python",
   "name": "python",
   "nbconvert_exporter": "python",
   "pygments_lexer": "ipython3",
   "version": "3.7.3"
  }
 },
 "nbformat": 4,
 "nbformat_minor": 1
}
